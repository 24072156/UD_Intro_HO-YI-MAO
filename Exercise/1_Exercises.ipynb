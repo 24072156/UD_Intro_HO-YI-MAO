{
 "cells": [
  {
   "cell_type": "markdown",
   "id": "38e188a5",
   "metadata": {},
   "source": [
    "# Exercise 00\n",
    "Write a piece of code that allocates a list of 20 integers and initializes each element by its index multiplied by 5. Print the result."
   ]
  },
  {
   "cell_type": "code",
   "execution_count": 4,
   "id": "01aa4f35",
   "metadata": {},
   "outputs": [
    {
     "name": "stdout",
     "output_type": "stream",
     "text": [
      "[0, 5, 10, 15, 20, 25, 30, 35, 40, 45, 50, 55, 60, 65, 70, 75, 80, 85, 90, 95]\n"
     ]
    }
   ],
   "source": [
    "list = []\n",
    "\n",
    "for i in range(20):\n",
    "    list.append(i*5)\n",
    "\n",
    "print(list)"
   ]
  },
  {
   "cell_type": "markdown",
   "id": "529d91ae",
   "metadata": {},
   "source": [
    "# Exercise 01\n",
    "Define a function that takes an integer as input, prints  all integers that it is divisable by, and returns the largest one."
   ]
  },
  {
   "cell_type": "code",
   "execution_count": 18,
   "id": "30e79132",
   "metadata": {},
   "outputs": [
    {
     "name": "stdout",
     "output_type": "stream",
     "text": [
      "The divisors of 20 are:\n",
      "1\n",
      "2\n",
      "4\n",
      "5\n",
      "10\n",
      "\n",
      "The largest divisor is: 10\n"
     ]
    }
   ],
   "source": [
    "def find_dividers(n):\n",
    "    div = 1\n",
    "    print(f\"The divisors of {n} are:\")\n",
    "    for i in range(1,int(n/2)+1):\n",
    "        if n%i==0:\n",
    "            div = i\n",
    "            print(i)\n",
    "    return div\n",
    "\n",
    "print(f\"\\nThe largest divisor is: {find_dividers(20)}\")"
   ]
  },
  {
   "cell_type": "markdown",
   "id": "cfbe30d4",
   "metadata": {},
   "source": [
    "# Exercise 02\n",
    "- create a dictionary with 6 keys and values of your choice\n",
    "- write a function that takes a dictionary and a value as input and returns whether the value occurs as a key in the dictionary\n",
    "- write a function that takes a dictionary as input, and returns the dictionary but the keys are swapped with their values (resolve the issue if a value occurs twice!)"
   ]
  },
  {
   "cell_type": "code",
   "execution_count": 21,
   "id": "2123f1c6",
   "metadata": {},
   "outputs": [
    {
     "name": "stdout",
     "output_type": "stream",
     "text": [
      "{\"name = Starry Night Over the Rhône, Artist = Vincent van Gogh, Year = 1888, Catalogue\\t= F474.JH1592, Medium = Oil on canvas, Location = Musée d'Orsay, Paris\"}\n"
     ]
    }
   ],
   "source": [
    "painting = {\n",
    "    \"name\": \"Starry Night Over the Rhône\",\n",
    "    \"artist\": \"Vincent van Gogh\",\n",
    "    \"year\": 1888,\n",
    "    \"catalogue\": \"F474.JH1592\",\n",
    "    \"medium\": \"Oil on canvas\",\n",
    "    \"location\": \"Musée d'Orsay, Paris\"\n",
    "}\n",
    "\n",
    "print(paint)"
   ]
  },
  {
   "cell_type": "code",
   "execution_count": 24,
   "id": "d63063bd",
   "metadata": {},
   "outputs": [
    {
     "name": "stdout",
     "output_type": "stream",
     "text": [
      "True\n",
      "False\n"
     ]
    }
   ],
   "source": [
    "def in_dict(dictionary, value):\n",
    "    return value in dictionary.keys()\n",
    "\n",
    "print(in_dict(painting, \"artist\")) # Should print True\n",
    "print(in_dict(painting, \"price\"))  # Should print False"
   ]
  },
  {
   "cell_type": "code",
   "execution_count": 25,
   "id": "c2b1dda2",
   "metadata": {},
   "outputs": [
    {
     "name": "stdout",
     "output_type": "stream",
     "text": [
      "{'Starry Night Over the Rhône': 'name', 'Vincent van Gogh': 'artist', 1888: 'year', 'F474.JH1592': 'catalogue', 'Oil on canvas': 'medium', \"Musée d'Orsay, Paris\": 'location'}\n"
     ]
    }
   ],
   "source": [
    "def swap_dict(d):\n",
    "    newDict = {}\n",
    "    for k in d.keys():\n",
    "        newDict[d[k]]=k\n",
    "    return newDict\n",
    "\n",
    "print(swap_dict(painting))"
   ]
  },
  {
   "cell_type": "markdown",
   "id": "b4b4e426",
   "metadata": {},
   "source": [
    "# Exercise 03\n",
    "Define a function that creates a dictionary of the first n fibonacci numbers as values paired with their indices as keys. "
   ]
  },
  {
   "cell_type": "code",
   "execution_count": 27,
   "id": "7845b5a4",
   "metadata": {},
   "outputs": [
    {
     "name": "stdout",
     "output_type": "stream",
     "text": [
      "The first 10 Fibonacci numbers are:\n",
      "0: 0\n",
      "1: 1\n",
      "2: 1\n",
      "3: 2\n",
      "4: 3\n",
      "5: 5\n",
      "6: 8\n",
      "7: 13\n",
      "8: 21\n",
      "9: 34\n"
     ]
    }
   ],
   "source": [
    "def fibonacci_dict(n):\n",
    "    fib_dict = {0: 0, 1: 1}\n",
    "    \n",
    "    for i in range(2, n):\n",
    "        fib_dict[i] = fib_dict[i-1] + fib_dict[i-2]\n",
    "    \n",
    "    return fib_dict\n",
    "\n",
    "n = 10\n",
    "result = fibonacci_dict(n)\n",
    "print(f\"The first {n} Fibonacci numbers are:\")\n",
    "for index, value in result.items():\n",
    "    print(f\"{index}: {value}\")"
   ]
  }
 ],
 "metadata": {
  "kernelspec": {
   "display_name": "Python 3",
   "language": "python",
   "name": "python3"
  },
  "language_info": {
   "codemirror_mode": {
    "name": "ipython",
    "version": 3
   },
   "file_extension": ".py",
   "mimetype": "text/x-python",
   "name": "python",
   "nbconvert_exporter": "python",
   "pygments_lexer": "ipython3",
   "version": "3.10.6"
  }
 },
 "nbformat": 4,
 "nbformat_minor": 5
}
